{
  "cells": [
    {
      "cell_type": "markdown",
      "metadata": {
        "id": "view-in-github",
        "colab_type": "text"
      },
      "source": [
        "<a href=\"https://colab.research.google.com/github/Carousel303/US-Medical-Insurance-Analysis/blob/main/us_medical_insurance_costs.ipynb\" target=\"_parent\"><img src=\"https://colab.research.google.com/assets/colab-badge.svg\" alt=\"Open In Colab\"/></a>"
      ]
    },
    {
      "cell_type": "markdown",
      "metadata": {
        "id": "rLob2uVOZaob"
      },
      "source": [
        "# U.S. Medical Insurance Costs"
      ]
    },
    {
      "cell_type": "code",
      "source": [
        "import pandas as pd\n",
        "from google.colab import files\n",
        " \n",
        " \n",
        "uploaded = files.upload()"
      ],
      "metadata": {
        "colab": {
          "base_uri": "https://localhost:8080/",
          "height": 73
        },
        "id": "kGlpwXHz0ZIq",
        "outputId": "49335e41-61b3-4d95-a432-8629c2ced958"
      },
      "execution_count": 2,
      "outputs": [
        {
          "output_type": "display_data",
          "data": {
            "text/plain": [
              "<IPython.core.display.HTML object>"
            ],
            "text/html": [
              "\n",
              "     <input type=\"file\" id=\"files-b0f529f6-cc73-47db-ae6e-99109ccab6da\" name=\"files[]\" multiple disabled\n",
              "        style=\"border:none\" />\n",
              "     <output id=\"result-b0f529f6-cc73-47db-ae6e-99109ccab6da\">\n",
              "      Upload widget is only available when the cell has been executed in the\n",
              "      current browser session. Please rerun this cell to enable.\n",
              "      </output>\n",
              "      <script>// Copyright 2017 Google LLC\n",
              "//\n",
              "// Licensed under the Apache License, Version 2.0 (the \"License\");\n",
              "// you may not use this file except in compliance with the License.\n",
              "// You may obtain a copy of the License at\n",
              "//\n",
              "//      http://www.apache.org/licenses/LICENSE-2.0\n",
              "//\n",
              "// Unless required by applicable law or agreed to in writing, software\n",
              "// distributed under the License is distributed on an \"AS IS\" BASIS,\n",
              "// WITHOUT WARRANTIES OR CONDITIONS OF ANY KIND, either express or implied.\n",
              "// See the License for the specific language governing permissions and\n",
              "// limitations under the License.\n",
              "\n",
              "/**\n",
              " * @fileoverview Helpers for google.colab Python module.\n",
              " */\n",
              "(function(scope) {\n",
              "function span(text, styleAttributes = {}) {\n",
              "  const element = document.createElement('span');\n",
              "  element.textContent = text;\n",
              "  for (const key of Object.keys(styleAttributes)) {\n",
              "    element.style[key] = styleAttributes[key];\n",
              "  }\n",
              "  return element;\n",
              "}\n",
              "\n",
              "// Max number of bytes which will be uploaded at a time.\n",
              "const MAX_PAYLOAD_SIZE = 100 * 1024;\n",
              "\n",
              "function _uploadFiles(inputId, outputId) {\n",
              "  const steps = uploadFilesStep(inputId, outputId);\n",
              "  const outputElement = document.getElementById(outputId);\n",
              "  // Cache steps on the outputElement to make it available for the next call\n",
              "  // to uploadFilesContinue from Python.\n",
              "  outputElement.steps = steps;\n",
              "\n",
              "  return _uploadFilesContinue(outputId);\n",
              "}\n",
              "\n",
              "// This is roughly an async generator (not supported in the browser yet),\n",
              "// where there are multiple asynchronous steps and the Python side is going\n",
              "// to poll for completion of each step.\n",
              "// This uses a Promise to block the python side on completion of each step,\n",
              "// then passes the result of the previous step as the input to the next step.\n",
              "function _uploadFilesContinue(outputId) {\n",
              "  const outputElement = document.getElementById(outputId);\n",
              "  const steps = outputElement.steps;\n",
              "\n",
              "  const next = steps.next(outputElement.lastPromiseValue);\n",
              "  return Promise.resolve(next.value.promise).then((value) => {\n",
              "    // Cache the last promise value to make it available to the next\n",
              "    // step of the generator.\n",
              "    outputElement.lastPromiseValue = value;\n",
              "    return next.value.response;\n",
              "  });\n",
              "}\n",
              "\n",
              "/**\n",
              " * Generator function which is called between each async step of the upload\n",
              " * process.\n",
              " * @param {string} inputId Element ID of the input file picker element.\n",
              " * @param {string} outputId Element ID of the output display.\n",
              " * @return {!Iterable<!Object>} Iterable of next steps.\n",
              " */\n",
              "function* uploadFilesStep(inputId, outputId) {\n",
              "  const inputElement = document.getElementById(inputId);\n",
              "  inputElement.disabled = false;\n",
              "\n",
              "  const outputElement = document.getElementById(outputId);\n",
              "  outputElement.innerHTML = '';\n",
              "\n",
              "  const pickedPromise = new Promise((resolve) => {\n",
              "    inputElement.addEventListener('change', (e) => {\n",
              "      resolve(e.target.files);\n",
              "    });\n",
              "  });\n",
              "\n",
              "  const cancel = document.createElement('button');\n",
              "  inputElement.parentElement.appendChild(cancel);\n",
              "  cancel.textContent = 'Cancel upload';\n",
              "  const cancelPromise = new Promise((resolve) => {\n",
              "    cancel.onclick = () => {\n",
              "      resolve(null);\n",
              "    };\n",
              "  });\n",
              "\n",
              "  // Wait for the user to pick the files.\n",
              "  const files = yield {\n",
              "    promise: Promise.race([pickedPromise, cancelPromise]),\n",
              "    response: {\n",
              "      action: 'starting',\n",
              "    }\n",
              "  };\n",
              "\n",
              "  cancel.remove();\n",
              "\n",
              "  // Disable the input element since further picks are not allowed.\n",
              "  inputElement.disabled = true;\n",
              "\n",
              "  if (!files) {\n",
              "    return {\n",
              "      response: {\n",
              "        action: 'complete',\n",
              "      }\n",
              "    };\n",
              "  }\n",
              "\n",
              "  for (const file of files) {\n",
              "    const li = document.createElement('li');\n",
              "    li.append(span(file.name, {fontWeight: 'bold'}));\n",
              "    li.append(span(\n",
              "        `(${file.type || 'n/a'}) - ${file.size} bytes, ` +\n",
              "        `last modified: ${\n",
              "            file.lastModifiedDate ? file.lastModifiedDate.toLocaleDateString() :\n",
              "                                    'n/a'} - `));\n",
              "    const percent = span('0% done');\n",
              "    li.appendChild(percent);\n",
              "\n",
              "    outputElement.appendChild(li);\n",
              "\n",
              "    const fileDataPromise = new Promise((resolve) => {\n",
              "      const reader = new FileReader();\n",
              "      reader.onload = (e) => {\n",
              "        resolve(e.target.result);\n",
              "      };\n",
              "      reader.readAsArrayBuffer(file);\n",
              "    });\n",
              "    // Wait for the data to be ready.\n",
              "    let fileData = yield {\n",
              "      promise: fileDataPromise,\n",
              "      response: {\n",
              "        action: 'continue',\n",
              "      }\n",
              "    };\n",
              "\n",
              "    // Use a chunked sending to avoid message size limits. See b/62115660.\n",
              "    let position = 0;\n",
              "    do {\n",
              "      const length = Math.min(fileData.byteLength - position, MAX_PAYLOAD_SIZE);\n",
              "      const chunk = new Uint8Array(fileData, position, length);\n",
              "      position += length;\n",
              "\n",
              "      const base64 = btoa(String.fromCharCode.apply(null, chunk));\n",
              "      yield {\n",
              "        response: {\n",
              "          action: 'append',\n",
              "          file: file.name,\n",
              "          data: base64,\n",
              "        },\n",
              "      };\n",
              "\n",
              "      let percentDone = fileData.byteLength === 0 ?\n",
              "          100 :\n",
              "          Math.round((position / fileData.byteLength) * 100);\n",
              "      percent.textContent = `${percentDone}% done`;\n",
              "\n",
              "    } while (position < fileData.byteLength);\n",
              "  }\n",
              "\n",
              "  // All done.\n",
              "  yield {\n",
              "    response: {\n",
              "      action: 'complete',\n",
              "    }\n",
              "  };\n",
              "}\n",
              "\n",
              "scope.google = scope.google || {};\n",
              "scope.google.colab = scope.google.colab || {};\n",
              "scope.google.colab._files = {\n",
              "  _uploadFiles,\n",
              "  _uploadFilesContinue,\n",
              "};\n",
              "})(self);\n",
              "</script> "
            ]
          },
          "metadata": {}
        },
        {
          "output_type": "stream",
          "name": "stdout",
          "text": [
            "Saving insurance.csv to insurance.csv\n"
          ]
        }
      ]
    },
    {
      "cell_type": "code",
      "source": [
        "#initial scope\n",
        "df = pd.read_csv(\"insurance.csv\")\n",
        "print(df.head)"
      ],
      "metadata": {
        "colab": {
          "base_uri": "https://localhost:8080/"
        },
        "id": "TXKvXMcXaJPS",
        "outputId": "acd409c1-5da6-4324-d23b-f310227f40c9"
      },
      "execution_count": 3,
      "outputs": [
        {
          "output_type": "stream",
          "name": "stdout",
          "text": [
            "<bound method NDFrame.head of       age     sex     bmi  children smoker     region      charges\n",
            "0      19  female  27.900         0    yes  southwest  16884.92400\n",
            "1      18    male  33.770         1     no  southeast   1725.55230\n",
            "2      28    male  33.000         3     no  southeast   4449.46200\n",
            "3      33    male  22.705         0     no  northwest  21984.47061\n",
            "4      32    male  28.880         0     no  northwest   3866.85520\n",
            "...   ...     ...     ...       ...    ...        ...          ...\n",
            "1333   50    male  30.970         3     no  northwest  10600.54830\n",
            "1334   18  female  31.920         0     no  northeast   2205.98080\n",
            "1335   18  female  36.850         0     no  southeast   1629.83350\n",
            "1336   21  female  25.800         0     no  southwest   2007.94500\n",
            "1337   61  female  29.070         0    yes  northwest  29141.36030\n",
            "\n",
            "[1338 rows x 7 columns]>\n"
          ]
        }
      ]
    },
    {
      "cell_type": "markdown",
      "source": [
        "Codecademy Suggested Points:\n",
        "\n",
        "Find out the average age of the patients in the dataset.\n",
        "\n",
        "Analyze where a majority of the individuals are from.\n",
        "\n",
        "Look at the different costs between smokers vs. non-smokers.\n",
        "\n",
        "Figure out what the average age is for someone who has at least one child in this dataset."
      ],
      "metadata": {
        "id": "7RmFsi3fHOgj"
      }
    },
    {
      "cell_type": "markdown",
      "source": [
        "Average Age of Patients"
      ],
      "metadata": {
        "id": "-oP_xaR2cLbX"
      }
    },
    {
      "cell_type": "code",
      "source": [
        "average_age_of_patient = df['age'].mean()\n",
        "print(\"The average age of a patient in this dataset is \" + str(average_age_of_patient.round(0)))"
      ],
      "metadata": {
        "colab": {
          "base_uri": "https://localhost:8080/"
        },
        "id": "UgaAjgdhcZZj",
        "outputId": "9365c1e4-e916-42e7-e633-0a0b2209391f"
      },
      "execution_count": 21,
      "outputs": [
        {
          "output_type": "stream",
          "name": "stdout",
          "text": [
            "The average age of a patient in this dataset is 39.0\n"
          ]
        }
      ]
    },
    {
      "cell_type": "markdown",
      "source": [
        "Where majority of Individuals are from"
      ],
      "metadata": {
        "id": "k48hOxwmfvLF"
      }
    },
    {
      "cell_type": "code",
      "source": [
        "distinct_areas = df['region'].unique()\n",
        "print(distinct_areas)"
      ],
      "metadata": {
        "colab": {
          "base_uri": "https://localhost:8080/"
        },
        "id": "uMHY9zjLg7d4",
        "outputId": "bbb0712b-0e4d-42fb-f139-63b33afb23a8"
      },
      "execution_count": 5,
      "outputs": [
        {
          "output_type": "stream",
          "name": "stdout",
          "text": [
            "['southwest' 'southeast' 'northwest' 'northeast']\n"
          ]
        }
      ]
    },
    {
      "cell_type": "code",
      "source": [
        "#count of each region\n",
        "sw_region_count = df['region'].value_counts()['southwest']\n",
        "print(\"The number of patients from the southwest is \" +str(sw_region_count))\n",
        "\n",
        "se_region_count = df['region'].value_counts()['southeast']\n",
        "print(\"The number of patients from the southeast is \" +str(se_region_count))\n",
        "\n",
        "nw_region_count = df['region'].value_counts()['northwest']\n",
        "print(\"The number of patients from the northwest is \" +str(nw_region_count))\n",
        "\n",
        "ne_region_count = df['region'].value_counts()['northeast']\n",
        "print(\"The number of patients from the northeast is \" +str(ne_region_count))"
      ],
      "metadata": {
        "colab": {
          "base_uri": "https://localhost:8080/"
        },
        "id": "Kj8_wFJXhfw-",
        "outputId": "f3c2c1bf-c69c-4552-87fa-9f528e78a728"
      },
      "execution_count": 6,
      "outputs": [
        {
          "output_type": "stream",
          "name": "stdout",
          "text": [
            "The number of patients from the southwest is 325\n",
            "The number of patients from the southeast is 364\n",
            "The number of patients from the northwest is 325\n",
            "The number of patients from the northeast is 324\n"
          ]
        }
      ]
    },
    {
      "cell_type": "markdown",
      "source": [
        "Differences between Smokers and Non-Smokers"
      ],
      "metadata": {
        "id": "iTv_jSQqk33w"
      }
    },
    {
      "cell_type": "code",
      "source": [
        "average_smokers = df.loc[df['smoker'] == 'yes', 'charges'].mean()\n",
        "print('The average cost of medical insurance for a smoker is $' + str(average_smokers.round(2)))"
      ],
      "metadata": {
        "colab": {
          "base_uri": "https://localhost:8080/"
        },
        "id": "QyWp-03fk9AB",
        "outputId": "01b6cd0c-de47-4136-85da-eca570e0a9d8"
      },
      "execution_count": 7,
      "outputs": [
        {
          "output_type": "stream",
          "name": "stdout",
          "text": [
            "The average cost of medical insurance for a smoker is $32050.23\n"
          ]
        }
      ]
    },
    {
      "cell_type": "code",
      "source": [
        "average_non_smokers = df.loc[df['smoker'] == 'no', 'charges'].mean()\n",
        "cost_difference = (average_smokers - average_non_smokers)\n",
        "print('The average cost of medical insurance for a non-smoker is $' + str(average_non_smokers.round(2)) + '. This is a difference of $' + str(cost_difference.round(2)))\n"
      ],
      "metadata": {
        "colab": {
          "base_uri": "https://localhost:8080/"
        },
        "id": "582vURnSqHSU",
        "outputId": "1fe22f55-f576-495c-c5e6-bed198a486fb"
      },
      "execution_count": 8,
      "outputs": [
        {
          "output_type": "stream",
          "name": "stdout",
          "text": [
            "The average cost of medical insurance for a non-smoker is $8434.27. This is a difference of $23615.96\n"
          ]
        }
      ]
    },
    {
      "cell_type": "markdown",
      "source": [
        "Average Cost with One Child"
      ],
      "metadata": {
        "id": "lLEJRtBX-cye"
      }
    },
    {
      "cell_type": "code",
      "source": [
        "one_child_average = df.loc[df['children'] == 1, 'charges'].mean()\n",
        "\n",
        "no_child_average = df.loc[df['children'] == 0, 'charges'].mean()\n",
        "child_difference = (one_child_average - no_child_average)\n",
        "\n",
        "print('The average insurance cost with one child is $' +str(one_child_average.round(2)) +'. That is a difference of $' + str(child_difference.round(2)) + ' when compared to having no children')"
      ],
      "metadata": {
        "colab": {
          "base_uri": "https://localhost:8080/"
        },
        "id": "QHVgVVba-i5j",
        "outputId": "73328d20-62ae-4454-a9cb-f58964e45acc"
      },
      "execution_count": 9,
      "outputs": [
        {
          "output_type": "stream",
          "name": "stdout",
          "text": [
            "The average insurance cost with one child is $12731.17. That is a difference of $365.2 when compared to having no children\n"
          ]
        }
      ]
    },
    {
      "cell_type": "code",
      "source": [
        "#got to try some functions and classes (google it)\n",
        "# functions could be the paramters age + gender returns an average of x\n",
        "# adding a kid (average 1 kid + average 2 kid)\n",
        "# \"increasing your bmi by 10 will increase your insurance cost by $x\""
      ],
      "metadata": {
        "id": "-ajYJst1FO_r"
      },
      "execution_count": null,
      "outputs": []
    },
    {
      "cell_type": "markdown",
      "source": [
        "Creating a Class with Speculative Quote"
      ],
      "metadata": {
        "id": "JX7fM5Ncdi0K"
      }
    },
    {
      "cell_type": "code",
      "source": [
        "# creating a class for applicants\n",
        "class Speculative_quote:\n",
        "    def __init__(self, sex, age, children, region):\n",
        "        self.sex = sex\n",
        "        self.age = age\n",
        "        self.children = children\n",
        "        self.region = region\n",
        "\n",
        "        selected_rows = df.loc[(df['age'] == age) & (df['sex'] == sex) & (df['children'] == children) & (df['region'] == region)]\n",
        "\n",
        "        self.avg_charge = selected_rows['charges'].mean()\n",
        "\n",
        "    def display_quote(self):\n",
        "        print(f'A speculative quote for a {self.age} year old {self.sex} from the {self.region} with {self.children} children is ${self.avg_charge.round(2)}')\n",
        "\n",
        "Applicant_one = Speculative_quote('male', 27, 2, 'northwest')\n",
        "Applicant_one.display_quote()\n",
        "\n",
        "Applicant_two = Speculative_quote('female', 30, 2, 'southeast')\n",
        "Applicant_two.display_quote()\n",
        "\n",
        "Applicant_three = Speculative_quote('female', 40, 1, 'northeast')\n",
        "Applicant_three.display_quote()\n"
      ],
      "metadata": {
        "colab": {
          "base_uri": "https://localhost:8080/"
        },
        "id": "VlBqVEzqNX8Q",
        "outputId": "2eefde63-89d2-4cdf-dc93-5968ed9abfdc"
      },
      "execution_count": 20,
      "outputs": [
        {
          "output_type": "stream",
          "name": "stdout",
          "text": [
            "A speculative quote for a 27 year old male from the northwest with 2 children is $4058.71\n",
            "A speculative quote for a 30 year old female from the southeast with 2 children is $4753.64\n",
            "A speculative quote for a 40 year old female from the northeast with 1 children is $14704.38\n"
          ]
        }
      ]
    }
  ],
  "metadata": {
    "kernelspec": {
      "display_name": "Python 3",
      "language": "python",
      "name": "python3"
    },
    "language_info": {
      "codemirror_mode": {
        "name": "ipython",
        "version": 3
      },
      "file_extension": ".py",
      "mimetype": "text/x-python",
      "name": "python",
      "nbconvert_exporter": "python",
      "pygments_lexer": "ipython3",
      "version": "3.7.6"
    },
    "colab": {
      "provenance": [],
      "include_colab_link": true
    }
  },
  "nbformat": 4,
  "nbformat_minor": 0
}